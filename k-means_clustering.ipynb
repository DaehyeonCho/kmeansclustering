import numpy as np
import cv2
import matplotlib.pyplot as plt

# Load images
img_airplane = cv2.imread("/Users/chodaehyeon/Desktop/airplane.jpg")
img_tiger = cv2.imread("/Users/chodaehyeon/Desktop/tiger.jpg")


# Set values of k
k_values = [2, 5, 10]


# Iterate through each value of k
for k in k_values:
    
    # Perform k-means clustering on airplane image
    data = img_airplane.reshape(-1, 3).astype(np.float32)
    criteria = (cv2.TERM_CRITERIA_MAX_ITER + cv2.TERM_CRITERIA_EPS, 10, 0.001)
    retval, bestLabels, centers = cv2.kmeans(data, k, None, criteria, 10, cv2.KMEANS_RANDOM_CENTERS)

    # Convert center values to integers and reshape image data
    centers = centers.astype(np.uint8)
    airplane_result = centers[bestLabels].reshape(img_airplane.shape)

    
    # Perform k-means clustering on tiger image
    data = img_tiger.reshape(-1, 3).astype(np.float32)
    criteria = (cv2.TERM_CRITERIA_MAX_ITER + cv2.TERM_CRITERIA_EPS, 10, 0.001) 
    retval, bestLabels, centers = cv2.kmeans(data, k, None, criteria, 10, cv2.KMEANS_RANDOM_CENTERS)

    # Convert center values to integers and reshape image data
    centers = centers.astype(np.uint8)
    tiger_result = centers[bestLabels].reshape(img_airplane.shape)

    
    # Display resulting images
    plt.title(f"After K-means clustering images with K={k}")
    plt.imshow(airplane_result[:,:,::-1])
    plt.xticks([])
    plt.yticks([])
    plt.show()

    plt.imshow(tiger_result[:,:,::-1])
    plt.xticks([])
    plt.yticks([])
    plt.show()
